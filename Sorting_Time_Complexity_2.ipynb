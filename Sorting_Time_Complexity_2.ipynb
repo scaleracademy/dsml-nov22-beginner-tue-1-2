{
 "cells": [
  {
   "cell_type": "markdown",
   "id": "b1789b22",
   "metadata": {},
   "source": [
    "# Sorting | Time Complexity - 2"
   ]
  },
  {
   "cell_type": "markdown",
   "id": "21b9b8d6-d892-4479-8a93-e006c5bdd1e9",
   "metadata": {},
   "source": [
    "## Recap of Time Complexity"
   ]
  },
  {
   "cell_type": "code",
   "execution_count": 20,
   "id": "23bfcf12",
   "metadata": {},
   "outputs": [],
   "source": [
    "def foo(N):\n",
    "    x = 1\n",
    "    y = 2\n",
    "    z = 3\n",
    "    print(N)"
   ]
  },
  {
   "cell_type": "code",
   "execution_count": 21,
   "id": "a49ad3ef",
   "metadata": {},
   "outputs": [
    {
     "name": "stdout",
     "output_type": "stream",
     "text": [
      "100\n"
     ]
    }
   ],
   "source": [
    "foo(100)"
   ]
  },
  {
   "cell_type": "code",
   "execution_count": 22,
   "id": "eb2ad04e",
   "metadata": {},
   "outputs": [
    {
     "name": "stdout",
     "output_type": "stream",
     "text": [
      "10000\n"
     ]
    }
   ],
   "source": [
    "foo(10000)"
   ]
  },
  {
   "cell_type": "code",
   "execution_count": 23,
   "id": "95d9d994",
   "metadata": {},
   "outputs": [],
   "source": [
    "# O(1) Time => time is independent of input size"
   ]
  },
  {
   "cell_type": "code",
   "execution_count": 6,
   "id": "af737abc-7558-4da7-a555-98a37febf37d",
   "metadata": {},
   "outputs": [],
   "source": [
    "def foo(N):\n",
    "    for i in range(N):\n",
    "        print(i, end=' ')"
   ]
  },
  {
   "cell_type": "code",
   "execution_count": 7,
   "id": "2bc26bdf-352f-4ce0-b386-1f4a06e8344a",
   "metadata": {},
   "outputs": [
    {
     "name": "stdout",
     "output_type": "stream",
     "text": [
      "0 1 2 3 4 "
     ]
    }
   ],
   "source": [
    "foo(5)"
   ]
  },
  {
   "cell_type": "code",
   "execution_count": 8,
   "id": "e582697b-b900-42c5-86e0-b76281e6c251",
   "metadata": {},
   "outputs": [
    {
     "name": "stdout",
     "output_type": "stream",
     "text": [
      "0 1 2 3 4 5 6 7 8 9 10 11 12 13 14 15 16 17 18 19 20 21 22 23 24 25 26 27 28 29 30 31 32 33 34 35 36 37 38 39 40 41 42 43 44 45 46 47 48 49 50 51 52 53 54 55 56 57 58 59 60 61 62 63 64 65 66 67 68 69 70 71 72 73 74 75 76 77 78 79 80 81 82 83 84 85 86 87 88 89 90 91 92 93 94 95 96 97 98 99 "
     ]
    }
   ],
   "source": [
    "foo(100)"
   ]
  },
  {
   "cell_type": "code",
   "execution_count": 24,
   "id": "82565e6c-daf5-4520-8ab0-2aafa1f13eb7",
   "metadata": {},
   "outputs": [],
   "source": [
    "# O(N) time => time is linearly depending on input size N"
   ]
  },
  {
   "cell_type": "code",
   "execution_count": 25,
   "id": "e6758f81-670c-4ed7-888a-6085ab1d6fe2",
   "metadata": {},
   "outputs": [],
   "source": [
    "# time complexity => how the time taken changes wrt input size"
   ]
  },
  {
   "cell_type": "code",
   "execution_count": 28,
   "id": "e4c13b85-0e32-4aed-93c9-1cd6a8ffb747",
   "metadata": {},
   "outputs": [],
   "source": [
    "def foo(N):\n",
    "    for i in range(N):\n",
    "        for j in range(N):\n",
    "            print('WoW!!')"
   ]
  },
  {
   "cell_type": "code",
   "execution_count": 29,
   "id": "b3c25748-03ae-4212-9ab3-f47c63caef42",
   "metadata": {},
   "outputs": [
    {
     "name": "stdout",
     "output_type": "stream",
     "text": [
      "WoW!!\n",
      "WoW!!\n",
      "WoW!!\n",
      "WoW!!\n",
      "WoW!!\n",
      "WoW!!\n",
      "WoW!!\n",
      "WoW!!\n",
      "WoW!!\n"
     ]
    }
   ],
   "source": [
    "foo(3)"
   ]
  },
  {
   "cell_type": "code",
   "execution_count": 12,
   "id": "1d0574eb-1287-4c2d-9b65-e22b499865d1",
   "metadata": {},
   "outputs": [],
   "source": [
    "# O(N^2) time"
   ]
  },
  {
   "cell_type": "markdown",
   "id": "ff98e4d1-12bb-4f60-9f60-ea86e8317ac6",
   "metadata": {},
   "source": [
    "## Big - O"
   ]
  },
  {
   "cell_type": "markdown",
   "id": "fbda803a-a108-449b-b5eb-28da37e90752",
   "metadata": {},
   "source": [
    "1. Calculate no of iterations\n",
    "2. Drop off any constants\n",
    "3. Ignore lower order terms, i.e. only keep the highest order term for input size N"
   ]
  },
  {
   "cell_type": "markdown",
   "id": "02c8138f-29db-4094-bbbb-6a9ee4fec266",
   "metadata": {},
   "source": [
    "## Example"
   ]
  },
  {
   "cell_type": "code",
   "execution_count": 30,
   "id": "79c49e8e-49f3-4afc-9de8-c5dfe0487a88",
   "metadata": {},
   "outputs": [],
   "source": [
    "def foo(N):\n",
    "    for i in range(N): # N\n",
    "        print(i, end=' ')\n",
    "\n",
    "    print() # 1\n",
    "\n",
    "    for i in range(N): \n",
    "        for j in range(N):\n",
    "            print(i + j, end=' ') # N^2"
   ]
  },
  {
   "cell_type": "code",
   "execution_count": 31,
   "id": "23c5af51-b51d-4ec6-9c1c-27932fe685f5",
   "metadata": {},
   "outputs": [
    {
     "name": "stdout",
     "output_type": "stream",
     "text": [
      "0 1 2 \n",
      "0 1 2 1 2 3 2 3 4 "
     ]
    }
   ],
   "source": [
    "foo(3)"
   ]
  },
  {
   "cell_type": "code",
   "execution_count": 32,
   "id": "9376eb04-2a99-4a89-8f7b-204ca3c5bbb4",
   "metadata": {},
   "outputs": [],
   "source": [
    "# T(N) = n^2 + n + c => O(N^2)"
   ]
  },
  {
   "cell_type": "markdown",
   "id": "c19b6137-4213-4fc5-aa17-da75d8d8b1e6",
   "metadata": {},
   "source": [
    "## Sorting"
   ]
  },
  {
   "cell_type": "markdown",
   "id": "b845de9c-da4a-4c57-9ab2-dc66095ca876",
   "metadata": {},
   "source": [
    "## Find kth Smallest element"
   ]
  },
  {
   "cell_type": "code",
   "execution_count": 33,
   "id": "2504e7f5-53dd-4649-a7bb-e4c3ed3a0695",
   "metadata": {},
   "outputs": [],
   "source": [
    "A = [2, 8, 4, -1, 6, 7, 5, 10, -1]"
   ]
  },
  {
   "cell_type": "code",
   "execution_count": 34,
   "id": "ca4df600-f001-407e-877d-2da63a79f983",
   "metadata": {},
   "outputs": [],
   "source": [
    "A.sort()"
   ]
  },
  {
   "cell_type": "code",
   "execution_count": 36,
   "id": "e1fe3898-bd01-4e99-870b-a95895605d72",
   "metadata": {},
   "outputs": [
    {
     "name": "stdout",
     "output_type": "stream",
     "text": [
      "[-1, -1, 2, 4, 5, 6, 7, 8, 10]\n"
     ]
    }
   ],
   "source": [
    "print(A)"
   ]
  },
  {
   "cell_type": "code",
   "execution_count": 37,
   "id": "583716ec-fba1-4934-8300-2c1e25f2c078",
   "metadata": {},
   "outputs": [
    {
     "name": "stdout",
     "output_type": "stream",
     "text": [
      "2\n"
     ]
    }
   ],
   "source": [
    "K = 3\n",
    "print(A[K - 1])"
   ]
  },
  {
   "cell_type": "markdown",
   "id": "07a24407-cfd6-40c0-85f5-238709b470c1",
   "metadata": {},
   "source": [
    "## Selection Sort"
   ]
  },
  {
   "cell_type": "code",
   "execution_count": 41,
   "id": "dc953d72-652f-4444-aa30-75da630c9f9b",
   "metadata": {},
   "outputs": [],
   "source": [
    "def selection_sort(A):\n",
    "    n = len(A)\n",
    "    for i in range(n - 1): # start = 0, end = n-1 (excluded) => n-2\n",
    "        mini = A[i]\n",
    "        idx = i\n",
    "        # finding the minimum from i to the end of the array\n",
    "        for j in range(i, n):\n",
    "            if A[j] < mini:\n",
    "                mini = A[j]\n",
    "                idx = j\n",
    "        # swap A[idx] with A[i]\n",
    "        A[i], A[idx] = A[idx], A[i]\n",
    "        print(A)\n",
    "    # sorting is done\n",
    "    return A"
   ]
  },
  {
   "cell_type": "code",
   "execution_count": 42,
   "id": "570e0558-fd1d-4253-9e42-94e11d85b4c0",
   "metadata": {},
   "outputs": [
    {
     "name": "stdout",
     "output_type": "stream",
     "text": [
      "[-1, 8, 5, 2, 6, 7, 4, 10, -1]\n",
      "[-1, -1, 5, 2, 6, 7, 4, 10, 8]\n",
      "[-1, -1, 2, 5, 6, 7, 4, 10, 8]\n",
      "[-1, -1, 2, 4, 6, 7, 5, 10, 8]\n",
      "[-1, -1, 2, 4, 5, 7, 6, 10, 8]\n",
      "[-1, -1, 2, 4, 5, 6, 7, 10, 8]\n",
      "[-1, -1, 2, 4, 5, 6, 7, 10, 8]\n",
      "[-1, -1, 2, 4, 5, 6, 7, 8, 10]\n"
     ]
    },
    {
     "data": {
      "text/plain": [
       "[-1, -1, 2, 4, 5, 6, 7, 8, 10]"
      ]
     },
     "execution_count": 42,
     "metadata": {},
     "output_type": "execute_result"
    }
   ],
   "source": [
    "selection_sort([2, 8, 5, -1, 6, 7, 4, 10, -1])"
   ]
  },
  {
   "cell_type": "markdown",
   "id": "54edcefa-3fa8-4b3f-b8fc-97b8590c5899",
   "metadata": {},
   "source": [
    "## Bubble Sort"
   ]
  },
  {
   "cell_type": "code",
   "execution_count": 47,
   "id": "0fb98bc3-1224-4190-82ee-61a53bdd1c2e",
   "metadata": {},
   "outputs": [],
   "source": [
    "def bubble_sort(A):\n",
    "    N = len(A)\n",
    "    \n",
    "    for i in range(N - 1): # only N - 1 passes required\n",
    "        for j in range(N - 1):\n",
    "            if A[j] > A[j + 1]:\n",
    "                A[j], A[j + 1] = A[j + 1], A[j]\n",
    "        print('List after ', i + 1, 'th pass:')\n",
    "        print(A)\n",
    "        print()\n",
    "    \n",
    "    return A"
   ]
  },
  {
   "cell_type": "code",
   "execution_count": 48,
   "id": "acfbc661-f615-47a1-8b3e-d6ec76dfc53d",
   "metadata": {},
   "outputs": [
    {
     "name": "stdout",
     "output_type": "stream",
     "text": [
      "List after  1 th pass:\n",
      "[2, 4, 5, 1, 3, 6]\n",
      "\n",
      "List after  2 th pass:\n",
      "[2, 4, 1, 3, 5, 6]\n",
      "\n",
      "List after  3 th pass:\n",
      "[2, 1, 3, 4, 5, 6]\n",
      "\n",
      "List after  4 th pass:\n",
      "[1, 2, 3, 4, 5, 6]\n",
      "\n",
      "List after  5 th pass:\n",
      "[1, 2, 3, 4, 5, 6]\n",
      "\n"
     ]
    },
    {
     "data": {
      "text/plain": [
       "[1, 2, 3, 4, 5, 6]"
      ]
     },
     "execution_count": 48,
     "metadata": {},
     "output_type": "execute_result"
    }
   ],
   "source": [
    "bubble_sort([4, 2, 5, 6, 1, 3])"
   ]
  },
  {
   "cell_type": "markdown",
   "id": "2768ff46-624b-4938-afa6-51f5636310e7",
   "metadata": {},
   "source": [
    "## Count no of swaps"
   ]
  },
  {
   "cell_type": "code",
   "execution_count": 51,
   "id": "7246b788-15f1-4e93-ab25-321c267cfa88",
   "metadata": {},
   "outputs": [],
   "source": [
    "def bubble_sort(A):\n",
    "    N = len(A)\n",
    "    cnt = 0\n",
    "    for i in range(N - 1): # only N - 1 passes required\n",
    "        for j in range(N - 1):\n",
    "            if A[j] > A[j + 1]:\n",
    "                A[j], A[j + 1] = A[j + 1], A[j]\n",
    "                cnt += 1 # counting the swap\n",
    "        print('List after ', i + 1, 'th pass:')\n",
    "        print(A)\n",
    "        print()\n",
    "    \n",
    "    print('Total swaps = ', cnt)\n",
    "    return A"
   ]
  },
  {
   "cell_type": "code",
   "execution_count": 52,
   "id": "12cbcc90-9644-482d-8070-f1ce84a667c6",
   "metadata": {},
   "outputs": [
    {
     "name": "stdout",
     "output_type": "stream",
     "text": [
      "List after  1 th pass:\n",
      "[9, 8, 10, 23, 6, 14, 32]\n",
      "\n",
      "List after  2 th pass:\n",
      "[8, 9, 10, 6, 14, 23, 32]\n",
      "\n",
      "List after  3 th pass:\n",
      "[8, 9, 6, 10, 14, 23, 32]\n",
      "\n",
      "List after  4 th pass:\n",
      "[8, 6, 9, 10, 14, 23, 32]\n",
      "\n",
      "List after  5 th pass:\n",
      "[6, 8, 9, 10, 14, 23, 32]\n",
      "\n",
      "List after  6 th pass:\n",
      "[6, 8, 9, 10, 14, 23, 32]\n",
      "\n",
      "Total swaps =  10\n"
     ]
    },
    {
     "data": {
      "text/plain": [
       "[6, 8, 9, 10, 14, 23, 32]"
      ]
     },
     "execution_count": 52,
     "metadata": {},
     "output_type": "execute_result"
    }
   ],
   "source": [
    "bubble_sort([9, 23, 8, 10, 32, 6, 14])"
   ]
  },
  {
   "cell_type": "code",
   "execution_count": 53,
   "id": "8b436fe2-1a44-480a-84e8-105563258587",
   "metadata": {},
   "outputs": [],
   "source": [
    "def bubble_sort(A):\n",
    "    N = len(A)\n",
    "    cnt = 0\n",
    "    for i in range(N - 1): # only N - 1 passes required\n",
    "        for j in range(N - 1):\n",
    "            if A[j] > A[j + 1]:\n",
    "                A[j], A[j + 1] = A[j + 1], A[j]\n",
    "                cnt += 1 # counting the swap\n",
    "        print('List after ', i + 1, 'th pass:')\n",
    "        print(A)\n",
    "        print()\n",
    "    \n",
    "    print('Total swaps = ', cnt)\n",
    "    return A"
   ]
  },
  {
   "cell_type": "code",
   "execution_count": 56,
   "id": "b2c45038-d783-48fd-b928-d542f1eb73bd",
   "metadata": {},
   "outputs": [
    {
     "name": "stdout",
     "output_type": "stream",
     "text": [
      "List after  1 th pass:\n",
      "[1, 2, 3, 4, 5, 6]\n",
      "\n",
      "List after  2 th pass:\n",
      "[1, 2, 3, 4, 5, 6]\n",
      "\n",
      "List after  3 th pass:\n",
      "[1, 2, 3, 4, 5, 6]\n",
      "\n",
      "List after  4 th pass:\n",
      "[1, 2, 3, 4, 5, 6]\n",
      "\n",
      "List after  5 th pass:\n",
      "[1, 2, 3, 4, 5, 6]\n",
      "\n",
      "Total swaps =  5\n"
     ]
    },
    {
     "data": {
      "text/plain": [
       "[1, 2, 3, 4, 5, 6]"
      ]
     },
     "execution_count": 56,
     "metadata": {},
     "output_type": "execute_result"
    }
   ],
   "source": [
    "bubble_sort([6, 1, 2, 3, 4, 5])"
   ]
  },
  {
   "cell_type": "code",
   "execution_count": 62,
   "id": "e38772a8-c955-42cf-97d2-d10fee5c8019",
   "metadata": {},
   "outputs": [],
   "source": [
    "def optimised_bubble_sort(A):\n",
    "    N = len(A)\n",
    "    for i in range(N - 1): # only N - 1 passes required\n",
    "        cnt = 0\n",
    "        for j in range(N - 1):\n",
    "            if A[j] > A[j + 1]:\n",
    "                A[j], A[j + 1] = A[j + 1], A[j]\n",
    "                cnt += 1 # counting the swap\n",
    "        # print('List after ', i + 1, 'th pass:')\n",
    "        print(A)\n",
    "        print('Cnt of swaps:', cnt)\n",
    "        if cnt == 0:\n",
    "            break # no swapping done\n",
    "    return A"
   ]
  },
  {
   "cell_type": "code",
   "execution_count": 63,
   "id": "c1d84735-f876-4c5d-a07f-ef5eaa873f26",
   "metadata": {},
   "outputs": [
    {
     "name": "stdout",
     "output_type": "stream",
     "text": [
      "[1, 2, 3, 4, 5, 6]\n",
      "Cnt of swaps: 5\n",
      "[1, 2, 3, 4, 5, 6]\n",
      "Cnt of swaps: 0\n"
     ]
    },
    {
     "data": {
      "text/plain": [
       "[1, 2, 3, 4, 5, 6]"
      ]
     },
     "execution_count": 63,
     "metadata": {},
     "output_type": "execute_result"
    }
   ],
   "source": [
    "optimised_bubble_sort([6, 1, 2, 3, 4, 5])"
   ]
  },
  {
   "cell_type": "code",
   "execution_count": null,
   "id": "5aa9f1f6-2ff4-4af5-bc1c-0e6bc8392eb7",
   "metadata": {},
   "outputs": [],
   "source": []
  }
 ],
 "metadata": {
  "kernelspec": {
   "display_name": "Python 3 (ipykernel)",
   "language": "python",
   "name": "python3"
  },
  "language_info": {
   "codemirror_mode": {
    "name": "ipython",
    "version": 3
   },
   "file_extension": ".py",
   "mimetype": "text/x-python",
   "name": "python",
   "nbconvert_exporter": "python",
   "pygments_lexer": "ipython3",
   "version": "3.9.12"
  }
 },
 "nbformat": 4,
 "nbformat_minor": 5
}
