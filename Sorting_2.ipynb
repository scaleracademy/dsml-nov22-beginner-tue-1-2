{
 "cells": [
  {
   "cell_type": "markdown",
   "id": "ee42c337-d7cb-440d-bb0e-7264ed64298f",
   "metadata": {},
   "source": [
    "## Sorting 3"
   ]
  },
  {
   "cell_type": "markdown",
   "id": "ecf972ea-1480-43e0-853e-231c95398dec",
   "metadata": {},
   "source": [
    "## Insertion Step"
   ]
  },
  {
   "cell_type": "code",
   "execution_count": 1,
   "id": "621d97f4-316b-4c8a-848f-d7ecf6c24d67",
   "metadata": {},
   "outputs": [],
   "source": [
    "#.   0  1. 2.  3.  4.  5   6\n",
    "A = [3, 6, 10, 14, 15, 24, 5]\n",
    "\n",
    "N = len(A)"
   ]
  },
  {
   "cell_type": "code",
   "execution_count": 2,
   "id": "9417f683-3042-4a7d-8775-b282ea6d012d",
   "metadata": {},
   "outputs": [],
   "source": [
    "for j in range(N - 2, -1, -1):\n",
    "    if A[j] > A[j + 1]:\n",
    "        A[j], A[j + 1] = A[j + 1], A[j]\n",
    "    else:\n",
    "        break"
   ]
  },
  {
   "cell_type": "code",
   "execution_count": 3,
   "id": "61ebe04d-5ace-493b-b98e-1a3ecbf34dc6",
   "metadata": {},
   "outputs": [
    {
     "name": "stdout",
     "output_type": "stream",
     "text": [
      "[3, 5, 6, 10, 14, 15, 24]\n"
     ]
    }
   ],
   "source": [
    "print(A)"
   ]
  },
  {
   "cell_type": "code",
   "execution_count": 5,
   "id": "869d4f5e-8b86-4067-a09f-e6ce660cd6b0",
   "metadata": {},
   "outputs": [
    {
     "data": {
      "text/plain": [
       "[5, 4, 3, 2, 1]"
      ]
     },
     "execution_count": 5,
     "metadata": {},
     "output_type": "execute_result"
    }
   ],
   "source": [
    "list(range(N - 2, 0, -1))"
   ]
  },
  {
   "cell_type": "code",
   "execution_count": 6,
   "id": "459e7a26-3d83-4ea2-9fe0-84d79bca9ec5",
   "metadata": {},
   "outputs": [
    {
     "data": {
      "text/plain": [
       "[5, 4, 3, 2, 1, 0]"
      ]
     },
     "execution_count": 6,
     "metadata": {},
     "output_type": "execute_result"
    }
   ],
   "source": [
    "list(range(N - 2, -1, -1))"
   ]
  },
  {
   "cell_type": "markdown",
   "id": "1bacc781-6bf4-42bd-a862-61c1072aa058",
   "metadata": {},
   "source": [
    "## Insertion Sort Code"
   ]
  },
  {
   "cell_type": "code",
   "execution_count": 19,
   "id": "fc1e3627-052d-43d7-ab27-5d2e1341d4f2",
   "metadata": {},
   "outputs": [],
   "source": [
    "def insertion_sort(A):\n",
    "    n = len(A)\n",
    "    \n",
    "    for i in range(1, n):\n",
    "        # insert A[i] using insertion step\n",
    "        print(A[:i], '|', A[i:]) # to visualize the steps\n",
    "        for j in range(i - 1, -1, -1):\n",
    "            if A[j] > A[j + 1]:\n",
    "                A[j], A[j + 1] = A[j + 1], A[j]\n",
    "            else:\n",
    "                break\n",
    "    return A"
   ]
  },
  {
   "cell_type": "code",
   "execution_count": 20,
   "id": "438d1af9-2060-469a-9553-21f463b13428",
   "metadata": {},
   "outputs": [
    {
     "name": "stdout",
     "output_type": "stream",
     "text": [
      "[10] | [3, 6, 8, 2, 5]\n",
      "[3, 10] | [6, 8, 2, 5]\n",
      "[3, 6, 10] | [8, 2, 5]\n",
      "[3, 6, 8, 10] | [2, 5]\n",
      "[2, 3, 6, 8, 10] | [5]\n"
     ]
    },
    {
     "data": {
      "text/plain": [
       "[2, 3, 5, 6, 8, 10]"
      ]
     },
     "execution_count": 20,
     "metadata": {},
     "output_type": "execute_result"
    }
   ],
   "source": [
    "insertion_sort([10, 3, 6, 8, 2, 5])"
   ]
  },
  {
   "cell_type": "code",
   "execution_count": 21,
   "id": "9fc9f09b-aebe-4137-83cf-5e75d516601a",
   "metadata": {},
   "outputs": [
    {
     "data": {
      "text/plain": [
       "[0]"
      ]
     },
     "execution_count": 21,
     "metadata": {},
     "output_type": "execute_result"
    }
   ],
   "source": [
    "list(range(0, -1, -1))"
   ]
  },
  {
   "cell_type": "code",
   "execution_count": 22,
   "id": "05082f93-28e8-44be-80e1-2f1b0ece7c44",
   "metadata": {},
   "outputs": [
    {
     "name": "stdout",
     "output_type": "stream",
     "text": [
      "0\n"
     ]
    }
   ],
   "source": [
    "for i in range(0, -1, -1):\n",
    "    print(i)"
   ]
  },
  {
   "cell_type": "markdown",
   "id": "066a99ae-098f-4276-9df4-c8e1cd4a98f3",
   "metadata": {},
   "source": [
    "## Q3: Merge two sorted arrays"
   ]
  },
  {
   "cell_type": "code",
   "execution_count": 33,
   "id": "b71c7db1-934f-42d3-b6b4-c092bc209b74",
   "metadata": {},
   "outputs": [],
   "source": [
    "def merge(A, B):\n",
    "    N = len(A)\n",
    "    M = len(B)\n",
    "    C = []\n",
    "    i = 0\n",
    "    j = 0\n",
    "    while i < N and j < M: # both the i and j within array A and B\n",
    "        if A[i] <= B[j]:\n",
    "            C.append(A[i])\n",
    "            i += 1\n",
    "        else:\n",
    "            C.append(B[j])\n",
    "            j += 1\n",
    "    # print(C)\n",
    "    # any one of them is still within the array\n",
    "    while i < N: # if i is remaining\n",
    "        C.append(A[i])\n",
    "        i += 1\n",
    "    while j < M: # if j is remaining\n",
    "        C.append(B[j])\n",
    "        j += 1\n",
    "    return C"
   ]
  },
  {
   "cell_type": "code",
   "execution_count": 34,
   "id": "b4419a80-1afb-4a99-afc1-6d8e38ac2044",
   "metadata": {},
   "outputs": [
    {
     "data": {
      "text/plain": [
       "[2, 3, 7, 8, 10, 14, 16, 20, 24]"
      ]
     },
     "execution_count": 34,
     "metadata": {},
     "output_type": "execute_result"
    }
   ],
   "source": [
    "merge([2, 8, 10, 14], [3, 7, 16, 20, 24])"
   ]
  },
  {
   "cell_type": "code",
   "execution_count": 35,
   "id": "97e8b998-289c-44d1-afae-ae98e32e24e1",
   "metadata": {},
   "outputs": [
    {
     "data": {
      "text/plain": [
       "[3, 7, 7, 7, 7, 7, 7, 7, 9]"
      ]
     },
     "execution_count": 35,
     "metadata": {},
     "output_type": "execute_result"
    }
   ],
   "source": [
    "merge([7, 7, 7, 7], [3, 7, 7, 7, 9])"
   ]
  },
  {
   "cell_type": "code",
   "execution_count": null,
   "id": "e7109072-56b9-4b91-bd15-bac900ffe0bb",
   "metadata": {},
   "outputs": [],
   "source": []
  }
 ],
 "metadata": {
  "kernelspec": {
   "display_name": "Python 3 (ipykernel)",
   "language": "python",
   "name": "python3"
  },
  "language_info": {
   "codemirror_mode": {
    "name": "ipython",
    "version": 3
   },
   "file_extension": ".py",
   "mimetype": "text/x-python",
   "name": "python",
   "nbconvert_exporter": "python",
   "pygments_lexer": "ipython3",
   "version": "3.9.12"
  }
 },
 "nbformat": 4,
 "nbformat_minor": 5
}
