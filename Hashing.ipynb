{
 "cells": [
  {
   "cell_type": "markdown",
   "id": "c0def445-ec73-482a-b081-52e08a77940e",
   "metadata": {},
   "source": [
    "## Hashing"
   ]
  },
  {
   "cell_type": "code",
   "execution_count": 1,
   "id": "82f4f19a-f6fc-4818-b57b-bce77dbcdedc",
   "metadata": {},
   "outputs": [
    {
     "data": {
      "text/plain": [
       "166.66666666666666"
      ]
     },
     "execution_count": 1,
     "metadata": {},
     "output_type": "execute_result"
    }
   ],
   "source": [
    "10000/60"
   ]
  },
  {
   "cell_type": "code",
   "execution_count": 2,
   "id": "e8886cd7-5d92-4cea-be19-d3123cf96bf1",
   "metadata": {},
   "outputs": [
    {
     "data": {
      "text/plain": [
       "2.7776666666666667"
      ]
     },
     "execution_count": 2,
     "metadata": {},
     "output_type": "execute_result"
    }
   ],
   "source": [
    "166.66/60"
   ]
  },
  {
   "cell_type": "code",
   "execution_count": 3,
   "id": "743ac816-5f2d-4bd5-9936-099deffe17a4",
   "metadata": {},
   "outputs": [
    {
     "data": {
      "text/plain": [
       "19.931568569324174"
      ]
     },
     "execution_count": 3,
     "metadata": {},
     "output_type": "execute_result"
    }
   ],
   "source": [
    "import math\n",
    "\n",
    "math.log2(1000000)"
   ]
  },
  {
   "cell_type": "markdown",
   "id": "149c4c01-e3bb-49b3-ac4b-e3b23b3c3cab",
   "metadata": {},
   "source": [
    "## Q1 - Find freq of each character in the string"
   ]
  },
  {
   "cell_type": "code",
   "execution_count": 4,
   "id": "4e3cf7c6-e909-4882-8be9-bacad184fb45",
   "metadata": {},
   "outputs": [],
   "source": [
    "s = \"abracadabra\""
   ]
  },
  {
   "cell_type": "code",
   "execution_count": 8,
   "id": "26aa858a-5b0f-415e-9506-a150b57ef379",
   "metadata": {},
   "outputs": [],
   "source": [
    "d = {}\n",
    "\n",
    "for i in s: # N elements\n",
    "    if i in d: # present -> searching -> O(1)\n",
    "        d[i] += 1 # updating the value -> O(1)\n",
    "    else: # not present\n",
    "        d[i] = 1 # insertion -> adding -> O(1)"
   ]
  },
  {
   "cell_type": "code",
   "execution_count": 6,
   "id": "81f6e5de-7082-4ec4-9f9f-c9cbd1df015d",
   "metadata": {},
   "outputs": [
    {
     "data": {
      "text/plain": [
       "{'a': 5, 'b': 2, 'r': 2, 'c': 1, 'd': 1}"
      ]
     },
     "execution_count": 6,
     "metadata": {},
     "output_type": "execute_result"
    }
   ],
   "source": [
    "d"
   ]
  },
  {
   "cell_type": "markdown",
   "id": "0a22393c-ebd7-4b41-b8e3-613f45645c93",
   "metadata": {},
   "source": [
    "## Q2: Find 1st non repeating element"
   ]
  },
  {
   "cell_type": "code",
   "execution_count": 9,
   "id": "11c6ae4f-ac4e-40af-aabd-f4a2d3bfe2fa",
   "metadata": {},
   "outputs": [],
   "source": [
    "A = [4, 3, 3, 2, 5, 6, 2, 4, 5]"
   ]
  },
  {
   "cell_type": "code",
   "execution_count": 11,
   "id": "98a2428b-f4b0-4c0c-91e8-7a454e9d81c1",
   "metadata": {},
   "outputs": [
    {
     "name": "stdout",
     "output_type": "stream",
     "text": [
      "6\n"
     ]
    }
   ],
   "source": [
    "for i in A: # O(N) times\n",
    "    if A.count(i) == 1: # checking count of element i -> O(N)\n",
    "        print(i)\n",
    "        break\n",
    "        \n",
    "# -> TC: O(N^2)"
   ]
  },
  {
   "cell_type": "code",
   "execution_count": 12,
   "id": "b24d5641-1e58-48b0-a50d-90f1b61b45d8",
   "metadata": {},
   "outputs": [],
   "source": [
    "A = [4, 3, 3, 2, 5, 6, 2, 4, 5]"
   ]
  },
  {
   "cell_type": "code",
   "execution_count": 14,
   "id": "5c7867f2-c811-4e88-9499-672ed3892a79",
   "metadata": {},
   "outputs": [
    {
     "name": "stdout",
     "output_type": "stream",
     "text": [
      "{4: 2, 3: 2, 2: 2, 5: 2, 6: 1}\n"
     ]
    }
   ],
   "source": [
    "# create a dict\n",
    "\n",
    "freq = {}\n",
    "\n",
    "for i in A: # loop -> O(N)\n",
    "    if i in freq: # dictionary -> searching -> O(1)\n",
    "        freq[i] += 1\n",
    "    else:\n",
    "        freq[i] = 1\n",
    "\n",
    "# time to create: O(N)        \n",
    "print(freq)"
   ]
  },
  {
   "cell_type": "code",
   "execution_count": 17,
   "id": "3e4750f0-6375-4f4d-a283-df24e0d55225",
   "metadata": {},
   "outputs": [
    {
     "name": "stdout",
     "output_type": "stream",
     "text": [
      "6\n"
     ]
    }
   ],
   "source": [
    "for i in A: # N time loop\n",
    "    if freq[i] == 1: # searching in dict -> O(1)\n",
    "        print(i)\n",
    "        break\n",
    "# time to find 1st non repeating -> O(N)"
   ]
  },
  {
   "cell_type": "markdown",
   "id": "97fc6491-9d53-4603-9db8-4cd82d2b157b",
   "metadata": {},
   "source": [
    "## Quiz"
   ]
  },
  {
   "cell_type": "code",
   "execution_count": 19,
   "id": "e1585b07-6209-4427-a3a0-cd1b5e420cb2",
   "metadata": {},
   "outputs": [],
   "source": [
    "L = [1, 1, 2, 3, 2, 2, 3, 4, 4, 4, 4 ]"
   ]
  },
  {
   "cell_type": "code",
   "execution_count": 20,
   "id": "1c2f518b-4b6b-47ba-9d4b-b072ea86ce70",
   "metadata": {},
   "outputs": [
    {
     "data": {
      "text/plain": [
       "{1, 2, 3, 4}"
      ]
     },
     "execution_count": 20,
     "metadata": {},
     "output_type": "execute_result"
    }
   ],
   "source": [
    "set(L) # O(N) time to add N elements"
   ]
  },
  {
   "cell_type": "code",
   "execution_count": 21,
   "id": "4396a6e0-1ac7-4bdb-9582-6390c267042b",
   "metadata": {},
   "outputs": [],
   "source": [
    "S = {6,3,7,3,8,6,9}"
   ]
  },
  {
   "cell_type": "code",
   "execution_count": 22,
   "id": "1ef022bd-e22f-4269-8302-176f627e0b79",
   "metadata": {},
   "outputs": [
    {
     "name": "stdout",
     "output_type": "stream",
     "text": [
      "{3, 6, 7, 8, 9}\n"
     ]
    }
   ],
   "source": [
    "print(S)"
   ]
  },
  {
   "cell_type": "code",
   "execution_count": 23,
   "id": "d666ded9-a2af-47a2-8dd5-d3912ed6145a",
   "metadata": {},
   "outputs": [
    {
     "data": {
      "text/plain": [
       "5"
      ]
     },
     "execution_count": 23,
     "metadata": {},
     "output_type": "execute_result"
    }
   ],
   "source": [
    "len(S)"
   ]
  },
  {
   "cell_type": "markdown",
   "id": "d3acf13b-e759-44a9-ada8-ad6f59749d21",
   "metadata": {},
   "source": [
    "## Q3: Count distinct elements"
   ]
  },
  {
   "cell_type": "code",
   "execution_count": 24,
   "id": "b3ad5a4e-2e11-4a64-bf7b-de628852601e",
   "metadata": {},
   "outputs": [
    {
     "data": {
      "text/plain": [
       "dict"
      ]
     },
     "execution_count": 24,
     "metadata": {},
     "output_type": "execute_result"
    }
   ],
   "source": [
    "A = [6, 3, 7, 3, 8, 6, 9]\n",
    "\n",
    "s = {}\n",
    "type(s)"
   ]
  },
  {
   "cell_type": "code",
   "execution_count": 25,
   "id": "823edd9f-6763-40b3-8b55-0a8963018c6c",
   "metadata": {},
   "outputs": [
    {
     "data": {
      "text/plain": [
       "set"
      ]
     },
     "execution_count": 25,
     "metadata": {},
     "output_type": "execute_result"
    }
   ],
   "source": [
    "s = set()\n",
    "type(s)"
   ]
  },
  {
   "cell_type": "code",
   "execution_count": 26,
   "id": "072fbef5-e4a0-4e28-b9b0-71fb12d281af",
   "metadata": {},
   "outputs": [
    {
     "name": "stdout",
     "output_type": "stream",
     "text": [
      "{3, 6, 7, 8, 9}\n"
     ]
    }
   ],
   "source": [
    "for i in A:\n",
    "    s.add(i)\n",
    "print(s)"
   ]
  },
  {
   "cell_type": "code",
   "execution_count": 27,
   "id": "cfbdbd13-b514-449d-b96f-3306ba412e60",
   "metadata": {},
   "outputs": [
    {
     "data": {
      "text/plain": [
       "5"
      ]
     },
     "execution_count": 27,
     "metadata": {},
     "output_type": "execute_result"
    }
   ],
   "source": [
    "len(s)"
   ]
  },
  {
   "cell_type": "code",
   "execution_count": null,
   "id": "b1fbf38c-af4f-489c-8b37-958f2b9b1ac3",
   "metadata": {},
   "outputs": [],
   "source": []
  }
 ],
 "metadata": {
  "kernelspec": {
   "display_name": "Python 3 (ipykernel)",
   "language": "python",
   "name": "python3"
  },
  "language_info": {
   "codemirror_mode": {
    "name": "ipython",
    "version": 3
   },
   "file_extension": ".py",
   "mimetype": "text/x-python",
   "name": "python",
   "nbconvert_exporter": "python",
   "pygments_lexer": "ipython3",
   "version": "3.9.12"
  }
 },
 "nbformat": 4,
 "nbformat_minor": 5
}
