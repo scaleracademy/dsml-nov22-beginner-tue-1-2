{
 "cells": [
  {
   "cell_type": "markdown",
   "id": "b72c29e5-5d43-4906-8d9b-59b30c4841fd",
   "metadata": {},
   "source": [
    "## Recursion 1"
   ]
  },
  {
   "cell_type": "code",
   "execution_count": 1,
   "id": "470d42c7-f7b8-447b-b108-154eb9ca2c62",
   "metadata": {},
   "outputs": [],
   "source": [
    "def add(a, b):\n",
    "    return a + b"
   ]
  },
  {
   "cell_type": "code",
   "execution_count": 2,
   "id": "9f567d60-ca4e-4eab-b7cd-28a44216cb3b",
   "metadata": {},
   "outputs": [
    {
     "data": {
      "text/plain": [
       "11"
      ]
     },
     "execution_count": 2,
     "metadata": {},
     "output_type": "execute_result"
    }
   ],
   "source": [
    "add(5, 6)"
   ]
  },
  {
   "cell_type": "markdown",
   "id": "ddf93c3b-c17d-4a28-a623-4cdb1cf5b0de",
   "metadata": {},
   "source": [
    "## Sum function"
   ]
  },
  {
   "cell_type": "markdown",
   "id": "ffaf45bb-685e-48b0-a689-c4f0c5980a14",
   "metadata": {},
   "source": [
    "1. Assumption => sum of 1 to N\n",
    "2. Main Logic => sum(N) = sum(N - 1) + N\n",
    "3. Base condition => sum(1) = 1"
   ]
  },
  {
   "cell_type": "code",
   "execution_count": 5,
   "id": "329a3d12-5510-4d8d-a910-bca9e65839e4",
   "metadata": {},
   "outputs": [],
   "source": [
    "def sum(N): # assumption\n",
    "    if N == 1: # base condition\n",
    "        return 1\n",
    "    return sum(N - 1) + N # recursive code"
   ]
  },
  {
   "cell_type": "code",
   "execution_count": 6,
   "id": "89e8a5e8-2978-4959-91e2-9258c3ed39b7",
   "metadata": {},
   "outputs": [
    {
     "data": {
      "text/plain": [
       "6"
      ]
     },
     "execution_count": 6,
     "metadata": {},
     "output_type": "execute_result"
    }
   ],
   "source": [
    "sum(3)"
   ]
  },
  {
   "cell_type": "code",
   "execution_count": 7,
   "id": "1a6e9d93-6212-41c3-a8fe-557c94c40c15",
   "metadata": {},
   "outputs": [
    {
     "data": {
      "text/plain": [
       "15"
      ]
     },
     "execution_count": 7,
     "metadata": {},
     "output_type": "execute_result"
    }
   ],
   "source": [
    "sum(5)"
   ]
  },
  {
   "cell_type": "code",
   "execution_count": 8,
   "id": "789b8e52-f148-4a62-9fc1-23c147a8aa89",
   "metadata": {},
   "outputs": [
    {
     "data": {
      "text/plain": [
       "55"
      ]
     },
     "execution_count": 8,
     "metadata": {},
     "output_type": "execute_result"
    }
   ],
   "source": [
    "sum(10)"
   ]
  },
  {
   "cell_type": "markdown",
   "id": "dc2d8aeb-328d-4fb2-b3fa-6640c921d640",
   "metadata": {},
   "source": [
    "## Factorial"
   ]
  },
  {
   "cell_type": "markdown",
   "id": "d71652be-ffc9-42c9-b310-6b087ca1aeb0",
   "metadata": {},
   "source": [
    "1. Assumption => multiplication from 1 to N\n",
    "2. Main Logic => fact(N) = N * fact(N-1)\n",
    "3. Base condition => fact(0) = 1"
   ]
  },
  {
   "cell_type": "code",
   "execution_count": 9,
   "id": "81c7ab62-1b79-4c10-b88f-d71255939c9a",
   "metadata": {},
   "outputs": [],
   "source": [
    "def fact(N):\n",
    "    if N == 0:\n",
    "        return 1\n",
    "    return N * fact(N - 1)"
   ]
  },
  {
   "cell_type": "code",
   "execution_count": 10,
   "id": "d56b062c-3e3b-4509-b89b-d279f9021518",
   "metadata": {},
   "outputs": [
    {
     "data": {
      "text/plain": [
       "24"
      ]
     },
     "execution_count": 10,
     "metadata": {},
     "output_type": "execute_result"
    }
   ],
   "source": [
    "fact(4)"
   ]
  },
  {
   "cell_type": "code",
   "execution_count": 11,
   "id": "35de61ad-27a5-4091-b02e-64911a52efa8",
   "metadata": {},
   "outputs": [
    {
     "data": {
      "text/plain": [
       "120"
      ]
     },
     "execution_count": 11,
     "metadata": {},
     "output_type": "execute_result"
    }
   ],
   "source": [
    "fact(5)"
   ]
  },
  {
   "cell_type": "markdown",
   "id": "635c76e3-5ed7-4931-949d-9534c64fdb3d",
   "metadata": {},
   "source": [
    "## Inc(N)"
   ]
  },
  {
   "cell_type": "markdown",
   "id": "222e903d-8e5b-4fbc-8cc9-f7ab4c14f129",
   "metadata": {},
   "source": [
    "1. Assumption => print numbers from 1 to N using recursion\n",
    "2. Main Logic => inc(N) = inc(N-1), print(N)\n",
    "3. Base condition => inc(1) => print(1)"
   ]
  },
  {
   "cell_type": "code",
   "execution_count": 14,
   "id": "1af723bf-79df-4180-8df2-f0f3a00c58c4",
   "metadata": {},
   "outputs": [],
   "source": [
    "def inc(N):\n",
    "    if N == 1:\n",
    "        print(1)\n",
    "        return # this is important\n",
    "    inc(N-1)\n",
    "    print(N)"
   ]
  },
  {
   "cell_type": "code",
   "execution_count": 15,
   "id": "6581fb0a-4475-4cfd-bd2d-f5ce8a7b91ce",
   "metadata": {},
   "outputs": [
    {
     "name": "stdout",
     "output_type": "stream",
     "text": [
      "1\n",
      "2\n",
      "3\n"
     ]
    }
   ],
   "source": [
    "inc(3)"
   ]
  },
  {
   "cell_type": "code",
   "execution_count": 16,
   "id": "eb5d81f3-81f7-4eee-991a-b91b7a473a6d",
   "metadata": {},
   "outputs": [
    {
     "name": "stdout",
     "output_type": "stream",
     "text": [
      "1\n",
      "2\n",
      "3\n",
      "4\n",
      "5\n"
     ]
    }
   ],
   "source": [
    "inc(5)"
   ]
  },
  {
   "cell_type": "code",
   "execution_count": 17,
   "id": "b1079555-6ac2-4792-a539-30547bb5d00d",
   "metadata": {},
   "outputs": [
    {
     "name": "stdout",
     "output_type": "stream",
     "text": [
      "1\n",
      "2\n",
      "3\n",
      "4\n",
      "5\n",
      "6\n",
      "7\n",
      "8\n",
      "9\n",
      "10\n"
     ]
    }
   ],
   "source": [
    "inc(10)"
   ]
  },
  {
   "cell_type": "markdown",
   "id": "da843aa4-4e1d-4447-9d13-dcadcdf19a0d",
   "metadata": {},
   "source": [
    "## Substring palindrome"
   ]
  },
  {
   "cell_type": "markdown",
   "id": "67dd58c9-d41d-49c4-9233-3636fda5364a",
   "metadata": {},
   "source": [
    "1. Assumption => check if string is palindrome from start to end index\n",
    "2. Main Logic => isPali(s, start, end)\n",
    "                -> s[start] == s[end]\n",
    "                -> isPali(s, start + 1, end - 1)\n",
    "3. Base condition: if(start > end): return True"
   ]
  },
  {
   "cell_type": "code",
   "execution_count": 18,
   "id": "ea8625c6-d1f0-4d29-a706-9efea29596d4",
   "metadata": {},
   "outputs": [],
   "source": [
    "def isPali(s, start, end):\n",
    "    # base condition\n",
    "    if start > end:\n",
    "        return True\n",
    "    \n",
    "    if (s[start] == s[end] and isPali(s, start + 1, end - 1)):\n",
    "        return True\n",
    "    return False"
   ]
  },
  {
   "cell_type": "code",
   "execution_count": 19,
   "id": "16a9393a-80cf-4467-b580-c28124b4fff0",
   "metadata": {},
   "outputs": [
    {
     "data": {
      "text/plain": [
       "True"
      ]
     },
     "execution_count": 19,
     "metadata": {},
     "output_type": "execute_result"
    }
   ],
   "source": [
    "isPali(\"gooddad\", 4, 6)"
   ]
  },
  {
   "cell_type": "code",
   "execution_count": 20,
   "id": "8e8829ff-dee1-4649-bfef-4429d6ebc152",
   "metadata": {},
   "outputs": [
    {
     "data": {
      "text/plain": [
       "False"
      ]
     },
     "execution_count": 20,
     "metadata": {},
     "output_type": "execute_result"
    }
   ],
   "source": [
    "isPali(\"gooddad\", 2, 5)"
   ]
  },
  {
   "cell_type": "code",
   "execution_count": 21,
   "id": "d794b3ec-a581-4492-a953-759ad498ac67",
   "metadata": {},
   "outputs": [
    {
     "data": {
      "text/plain": [
       "True"
      ]
     },
     "execution_count": 21,
     "metadata": {},
     "output_type": "execute_result"
    }
   ],
   "source": [
    "isPali(\"xamalayalamzb\", 2, 10)"
   ]
  },
  {
   "cell_type": "code",
   "execution_count": 23,
   "id": "d4666b4f-ba84-41e2-9d30-1b00ce7dc2c3",
   "metadata": {},
   "outputs": [
    {
     "data": {
      "text/plain": [
       "True"
      ]
     },
     "execution_count": 23,
     "metadata": {},
     "output_type": "execute_result"
    }
   ],
   "source": [
    "isPali(\"madam\", 0, 4)"
   ]
  },
  {
   "cell_type": "code",
   "execution_count": 24,
   "id": "553deb36-af50-418a-b503-c759bd3fe15a",
   "metadata": {},
   "outputs": [
    {
     "data": {
      "text/plain": [
       "False"
      ]
     },
     "execution_count": 24,
     "metadata": {},
     "output_type": "execute_result"
    }
   ],
   "source": [
    "isPali(\"anmetna\", 0, 6)"
   ]
  },
  {
   "cell_type": "code",
   "execution_count": 27,
   "id": "9a494ff7-429a-4298-b037-45c46ba35629",
   "metadata": {},
   "outputs": [],
   "source": [
    "def isPali(s, start, end):\n",
    "    # base condition\n",
    "    if start > end:\n",
    "        return True\n",
    "    \n",
    "    if (s[start] != s[end]):\n",
    "        return False\n",
    "\n",
    "    return isPali(s, start + 1, end - 1)"
   ]
  },
  {
   "cell_type": "code",
   "execution_count": null,
   "id": "c16528a7-6c87-4765-a152-1eeb165e55cf",
   "metadata": {},
   "outputs": [],
   "source": []
  }
 ],
 "metadata": {
  "kernelspec": {
   "display_name": "Python 3 (ipykernel)",
   "language": "python",
   "name": "python3"
  },
  "language_info": {
   "codemirror_mode": {
    "name": "ipython",
    "version": 3
   },
   "file_extension": ".py",
   "mimetype": "text/x-python",
   "name": "python",
   "nbconvert_exporter": "python",
   "pygments_lexer": "ipython3",
   "version": "3.9.12"
  }
 },
 "nbformat": 4,
 "nbformat_minor": 5
}
