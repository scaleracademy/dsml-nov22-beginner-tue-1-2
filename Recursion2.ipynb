{
 "cells": [
  {
   "cell_type": "markdown",
   "id": "35373d93-5e2e-4e96-ad77-d8d974a4870f",
   "metadata": {},
   "source": [
    "## Recursion 2"
   ]
  },
  {
   "cell_type": "markdown",
   "id": "2bf02390-c66a-453c-8db7-338552992257",
   "metadata": {},
   "source": [
    "## Sum of digits"
   ]
  },
  {
   "cell_type": "code",
   "execution_count": 1,
   "id": "126b2da6-dcbe-41e4-bd7d-e898c5538bab",
   "metadata": {},
   "outputs": [],
   "source": [
    "def sum(N): # return sum of digits of Number N\n",
    "    if N == 0:\n",
    "        return 0\n",
    "    \n",
    "    # main logic\n",
    "    return (N%10) + sum(N//10)"
   ]
  },
  {
   "cell_type": "code",
   "execution_count": 2,
   "id": "ca042144-9602-4cc5-96f1-f9c31fef9c54",
   "metadata": {},
   "outputs": [
    {
     "data": {
      "text/plain": [
       "6"
      ]
     },
     "execution_count": 2,
     "metadata": {},
     "output_type": "execute_result"
    }
   ],
   "source": [
    "sum(123)"
   ]
  },
  {
   "cell_type": "code",
   "execution_count": 3,
   "id": "c8641a1c-c991-4013-bc33-f7695ed9a4c0",
   "metadata": {},
   "outputs": [
    {
     "data": {
      "text/plain": [
       "7"
      ]
     },
     "execution_count": 3,
     "metadata": {},
     "output_type": "execute_result"
    }
   ],
   "source": [
    "sum(124)"
   ]
  },
  {
   "cell_type": "code",
   "execution_count": 4,
   "id": "dde9e0cd-6384-4243-a871-b3c6e1ed0710",
   "metadata": {},
   "outputs": [
    {
     "data": {
      "text/plain": [
       "18"
      ]
     },
     "execution_count": 4,
     "metadata": {},
     "output_type": "execute_result"
    }
   ],
   "source": [
    "sum(99)"
   ]
  },
  {
   "cell_type": "code",
   "execution_count": 5,
   "id": "333db8f6-29aa-4f30-8d77-c7ad9d4e41e4",
   "metadata": {},
   "outputs": [
    {
     "data": {
      "text/plain": [
       "5"
      ]
     },
     "execution_count": 5,
     "metadata": {},
     "output_type": "execute_result"
    }
   ],
   "source": [
    "sum(11111)"
   ]
  },
  {
   "cell_type": "code",
   "execution_count": 6,
   "id": "9148605d-0235-4f80-9939-8d17c7201ace",
   "metadata": {},
   "outputs": [
    {
     "data": {
      "text/plain": [
       "0"
      ]
     },
     "execution_count": 6,
     "metadata": {},
     "output_type": "execute_result"
    }
   ],
   "source": [
    "sum(0)"
   ]
  },
  {
   "cell_type": "markdown",
   "id": "0b746ea7-9c3a-43ea-92ee-2f42319e1048",
   "metadata": {},
   "source": [
    "## Merge 2 sorted subarray"
   ]
  },
  {
   "cell_type": "code",
   "execution_count": 13,
   "id": "e70ca363-6286-45c4-bb97-73824888f6d0",
   "metadata": {},
   "outputs": [],
   "source": [
    "def merge(A, s, m, e):\n",
    "    temp = []\n",
    "    i = s\n",
    "    j = m + 1\n",
    "    while i <= m and j <= e:\n",
    "        if A[i] <= A[j]:\n",
    "            temp.append(A[i])\n",
    "            i += 1\n",
    "        else:\n",
    "            temp.append(A[j])\n",
    "            j += 1\n",
    "    # copy remaining elements\n",
    "    while i <= m:\n",
    "        temp.append(A[i])\n",
    "        i += 1\n",
    "    while j <= e:\n",
    "        temp.append(A[j])\n",
    "        j += 1\n",
    "    return temp"
   ]
  },
  {
   "cell_type": "code",
   "execution_count": 14,
   "id": "71b365b6-49b5-4367-9fa9-28f3e1d06341",
   "metadata": {},
   "outputs": [
    {
     "data": {
      "text/plain": [
       "[-1, 2, 3, 4, 6, 7, 9, 11]"
      ]
     },
     "execution_count": 14,
     "metadata": {},
     "output_type": "execute_result"
    }
   ],
   "source": [
    "merge([4, 8, -1, 2, 6, 9, 11, 3, 4, 7, 13, 0], 2, 6, 9)"
   ]
  },
  {
   "cell_type": "markdown",
   "id": "c0178a55-4c0b-4e4f-b86a-0c0986230c1a",
   "metadata": {},
   "source": [
    "## copying part"
   ]
  },
  {
   "cell_type": "code",
   "execution_count": 17,
   "id": "4bea87d0-8a51-42f2-b03a-f338a06ef4a3",
   "metadata": {},
   "outputs": [],
   "source": [
    "def merge(A, s, m, e):\n",
    "    temp = []\n",
    "    i = s\n",
    "    j = m + 1\n",
    "    while i <= m and j <= e:\n",
    "        if A[i] <= A[j]:\n",
    "            temp.append(A[i])\n",
    "            i += 1\n",
    "        else:\n",
    "            temp.append(A[j])\n",
    "            j += 1\n",
    "    # copy remaining elements\n",
    "    while i <= m:\n",
    "        temp.append(A[i])\n",
    "        i += 1\n",
    "    while j <= e:\n",
    "        temp.append(A[j])\n",
    "        j += 1\n",
    "    return temp"
   ]
  },
  {
   "cell_type": "code",
   "execution_count": 18,
   "id": "da49b303-d2db-4c92-87b9-27f9bfd87751",
   "metadata": {},
   "outputs": [
    {
     "data": {
      "text/plain": [
       "[-1, 2, 3, 4, 6, 7, 9, 11]"
      ]
     },
     "execution_count": 18,
     "metadata": {},
     "output_type": "execute_result"
    }
   ],
   "source": [
    "merge([4, 8, -1, 2, 6, 9, 11, 3, 4, 7, 13, 0], 2, 6, 9)"
   ]
  },
  {
   "cell_type": "code",
   "execution_count": 19,
   "id": "da5660c6-57c0-4b8f-bc1d-770a4dac594f",
   "metadata": {},
   "outputs": [],
   "source": [
    "def merge(A, s, m, e):\n",
    "    temp = []\n",
    "    i = s\n",
    "    j = m + 1\n",
    "    while i <= m and j <= e:\n",
    "        if A[i] <= A[j]:\n",
    "            temp.append(A[i])\n",
    "            i += 1\n",
    "        else:\n",
    "            temp.append(A[j])\n",
    "            j += 1\n",
    "    # copy remaining elements\n",
    "    while i <= m:\n",
    "        temp.append(A[i])\n",
    "        i += 1\n",
    "    while j <= e:\n",
    "        temp.append(A[j])\n",
    "        j += 1\n",
    "    # move back to the original array\n",
    "    i = s\n",
    "    j = 0\n",
    "    while i <= e:\n",
    "        A[i] = temp[j]\n",
    "        i += 1\n",
    "        j += 1\n",
    "    return A"
   ]
  },
  {
   "cell_type": "code",
   "execution_count": 20,
   "id": "9f784a6e-ce5e-4766-991c-1f0800f73cd5",
   "metadata": {},
   "outputs": [
    {
     "data": {
      "text/plain": [
       "[4, 8, -1, 2, 3, 4, 6, 7, 9, 11, 13, 0]"
      ]
     },
     "execution_count": 20,
     "metadata": {},
     "output_type": "execute_result"
    }
   ],
   "source": [
    "merge([4, 8, -1, 2, 6, 9, 11, 3, 4, 7, 13, 0], 2, 6, 9)"
   ]
  },
  {
   "cell_type": "markdown",
   "id": "164c6c1b-1309-43e8-a89a-e3a015158fd3",
   "metadata": {},
   "source": [
    "\n",
    "## Merge Sort"
   ]
  },
  {
   "cell_type": "code",
   "execution_count": 26,
   "id": "e1e7ef99-8648-41c5-88b2-11a30fd17994",
   "metadata": {},
   "outputs": [],
   "source": [
    "def merge_sort(A, s, e):\n",
    "    # N = len(A)\n",
    "    # if N == 1: # issue: size of array A is not getting less\n",
    "    #     return\n",
    "    if s == e: # only 1 element present\n",
    "        return\n",
    "    \n",
    "    # sort the left and right halves\n",
    "    mid = (s + e)//2\n",
    "    merge_sort(A, s, mid)\n",
    "    merge_sort(A, mid + 1, e)\n",
    "    # merging operation\n",
    "    merge(A, s, mid, e)\n",
    "    return A"
   ]
  },
  {
   "cell_type": "code",
   "execution_count": 27,
   "id": "c6c22759-1502-4147-9ccc-6e001c912f77",
   "metadata": {},
   "outputs": [
    {
     "data": {
      "text/plain": [
       "[2, 3, 6, 8, 10, 12, 15, 17, 18]"
      ]
     },
     "execution_count": 27,
     "metadata": {},
     "output_type": "execute_result"
    }
   ],
   "source": [
    "A = [3, 10, 6, 15, 8, 12, 2, 18, 17]\n",
    "merge_sort(A, 0, len(A)-1)"
   ]
  },
  {
   "cell_type": "code",
   "execution_count": null,
   "id": "bdfca6b6-52db-49e3-9185-4f6828f7cf49",
   "metadata": {},
   "outputs": [],
   "source": []
  },
  {
   "cell_type": "code",
   "execution_count": null,
   "id": "ccc2be46-7001-47b8-8287-f8b4445402c8",
   "metadata": {},
   "outputs": [],
   "source": []
  }
 ],
 "metadata": {
  "kernelspec": {
   "display_name": "Python 3 (ipykernel)",
   "language": "python",
   "name": "python3"
  },
  "language_info": {
   "codemirror_mode": {
    "name": "ipython",
    "version": 3
   },
   "file_extension": ".py",
   "mimetype": "text/x-python",
   "name": "python",
   "nbconvert_exporter": "python",
   "pygments_lexer": "ipython3",
   "version": "3.9.12"
  }
 },
 "nbformat": 4,
 "nbformat_minor": 5
}
